{
  "nbformat": 4,
  "nbformat_minor": 0,
  "metadata": {
    "colab": {
      "provenance": []
    },
    "kernelspec": {
      "name": "python3",
      "display_name": "Python 3"
    },
    "accelerator": "GPU",
    "gpuClass": "standard"
  },
  "cells": [
    {
      "cell_type": "code",
      "source": [
        "import torch\n",
        "import torch.nn as nn\n",
        "import torch.nn.functional as F\n",
        "import numpy as np\n",
        "from collections import OrderedDict\n",
        "import matplotlib.pyplot as plt\n",
        "%matplotlib inline\n",
        "import copy"
      ],
      "metadata": {
        "id": "4ZLuq5SDVtCZ"
      },
      "execution_count": 1,
      "outputs": []
    },
    {
      "cell_type": "code",
      "source": [
        "device=torch.device(\"cuda\" if torch.cuda.is_available() else \"cpu\")"
      ],
      "metadata": {
        "id": "JJl8CG4eVwNj"
      },
      "execution_count": 2,
      "outputs": []
    },
    {
      "cell_type": "code",
      "source": [
        "#generating sinusoidal data\n",
        "class SineTask():\n",
        "  def __init__(self,amp,phase,min_x,max_x):\n",
        "    self.phase=phase\n",
        "    self.max_x=max_x\n",
        "    self.min_x=min_x\n",
        "    self.amp=amp\n",
        "    \n",
        "  def sample_data(self,size=1):\n",
        "    x=np.random.uniform(self.max_x,self.min_x,size)\n",
        "    y=self.true_sine(x)\n",
        "    x=torch.tensor(x, dtype=torch.float).unsqueeze(1)\n",
        "    y=torch.tensor(y, dtype=torch.float).unsqueeze(1)\n",
        "    return x,y\n",
        "  \n",
        "  def true_sine(self,x):\n",
        "    y=self.amp*np.sin(self.phase+x)\n",
        "    return y"
      ],
      "metadata": {
        "id": "AqnfI4QtVzZA"
      },
      "execution_count": 3,
      "outputs": []
    },
    {
      "cell_type": "code",
      "source": [
        "class SineDistribution():\n",
        "  def __init__(self,min_amp,max_amp,min_phase,max_phase,min_x,max_x):\n",
        "    self.min_amp=min_amp\n",
        "    self.max_phase=max_phase\n",
        "    self.min_phase=min_phase\n",
        "    self.max_amp=max_amp\n",
        "    self.min_x=min_x\n",
        "    self.max_x=max_x\n",
        "    \n",
        "  def sample_task(self):\n",
        "    amp = np.random.uniform(self.min_amp, self.max_amp)\n",
        "    phase = np.random.uniform(self.min_phase, self.max_phase)\n",
        "    return SineTask(amp, phase, self.min_x, self.max_x)"
      ],
      "metadata": {
        "id": "oek3HRLC3QK_"
      },
      "execution_count": null,
      "outputs": []
    },
    {
      "cell_type": "code",
      "source": [
        "#defining our sine-net\n",
        "class SineNet(nn.Module):\n",
        "  def __init__(self):\n",
        "    super(SineNet,self).__init__()\n",
        "    self.net=nn.Sequential(OrderedDict([\n",
        "            ('l1',nn.Linear(1,40)),\n",
        "            ('relu1',nn.ReLU()),\n",
        "            ('l2',nn.Linear(40,40)),\n",
        "            ('relu2',nn.ReLU()),\n",
        "            ('l3',nn.Linear(40,1))\n",
        "        ]))\n",
        "      \n",
        "  # I implemented argforward() so that I could use a set of custom weights for evaluation. \n",
        "  # This is important for the \"inner loop\" in MAML where you temporarily update the weights\n",
        "  # of the network for a task to calculate the meta-loss and then reset them for the next meta-task.\n",
        "  def argforward(self,x,weights): \n",
        "    x=F.linear(x,weights[0],weights[1])\n",
        "    x=F.relu(x)\n",
        "    x=F.linear(x,weights[2],weights[3])           \n",
        "    x=F.relu(x)\n",
        "    x=F.linear(x,weights[4],weights[5])\n",
        "    return x"
      ],
      "metadata": {
        "id": "rtDNJDy3V1jj"
      },
      "execution_count": 4,
      "outputs": []
    },
    {
      "cell_type": "code",
      "source": [
        "class SineMAML():\n",
        "  def __init__(self,net,alpha,beta,tasks,k,num_metatasks):\n",
        "    self.net=net\n",
        "    self.weights=list(net.parameters())\n",
        "    self.alpha=alpha\n",
        "    self.beta=beta\n",
        "    self.tasks=tasks\n",
        "    self.k=k \n",
        "    self.num_tasks_meta=num_metatasks\n",
        "    self.criterion=nn.MSELoss()\n",
        "    self.meta_optimiser=torch.optim.Adam(self.weights,self.beta)\n",
        "    self.meta_losses=[]\n",
        "    self.plot_every =100\n",
        "    self.print_every = 10000\n",
        "    self.num_metatasks=num_metatasks\n",
        "\n",
        "  def inner_loop(self,task):\n",
        "    temp_weights=[w.clone() for w in self.weights]\n",
        "    x,y=task.sample_data(size=self.k) #sampling D\n",
        "    x=x.to(device)\n",
        "    y=y.to(device)\n",
        "    output=self.net.argforward(x,temp_weights)\n",
        "    loss=self.criterion(output,y)/self.k\n",
        "    grads=torch.autograd.grad(loss,temp_weights)\n",
        "    temp_weights=[w-self.alpha*g for w,g in zip(temp_weights,grads)] #temporary update of weights\n",
        "    x,y=task.sample_data(size=self.k) #sampling D'\n",
        "    x=x.to(device)\n",
        "    y=y.to(device)\n",
        "    output=self.net.argforward(x,temp_weights)\n",
        "    metaloss=self.criterion(output,y)/self.k\n",
        "    return metaloss\n",
        "  \n",
        "  def outer_loop(self,num_epochs):\n",
        "    total_loss=0\n",
        "    for epoch in range(1,num_epochs+1):\n",
        "      metaloss_sum=0\n",
        "      for i in range(self.num_metatasks):\n",
        "        task=self.tasks.sample_task()\n",
        "        metaloss=self.inner_loop(task)\n",
        "        metaloss_sum+=metaloss\n",
        "      metagrads=torch.autograd.grad(metaloss_sum,self.weights)\n",
        "      #important step\n",
        "      for w,g in zip(self.weights,metagrads):\n",
        "        w.grad=g\n",
        "      ###############\n",
        "      self.meta_optimiser.step()\n",
        "      total_loss+=metaloss_sum.item()/self.num_metatasks\n",
        "      if epoch % self.print_every == 0:\n",
        "        print(\"{}/{}. loss: {}\".format(epoch, num_epochs, total_loss / self.plot_every))\n",
        "      if epoch%self.plot_every==0:\n",
        "        self.meta_losses.append(total_loss/self.plot_every)\n",
        "        total_loss = 0"
      ],
      "metadata": {
        "id": "uB2cQPE9V6HO"
      },
      "execution_count": 5,
      "outputs": []
    },
    {
      "cell_type": "code",
      "source": [
        "sine_tasks=SineDistribution(0.1, 5, 0, np.pi, -5, 5)\n",
        "net=SineNet()\n",
        "net=net.to(device)\n",
        "maml=SineMAML(net,alpha=0.01,beta=0.001,tasks=sine_tasks,k=5,num_metatasks=10)"
      ],
      "metadata": {
        "id": "ARYBA6V8WB9o"
      },
      "execution_count": 6,
      "outputs": []
    },
    {
      "cell_type": "code",
      "source": [
        "maml.outer_loop(num_epochs=50000)"
      ],
      "metadata": {
        "colab": {
          "base_uri": "https://localhost:8080/"
        },
        "id": "hClUudjJWCRz",
        "outputId": "1b859b76-81b8-4517-e89e-707571fd44e7"
      },
      "execution_count": 7,
      "outputs": [
        {
          "output_type": "stream",
          "name": "stdout",
          "text": [
            "10000/50000. loss: 0.2392818521261217\n",
            "20000/50000. loss: 0.20271940112113954\n",
            "30000/50000. loss: 0.18826096707582476\n",
            "40000/50000. loss: 0.17475864666700366\n",
            "50000/50000. loss: 0.1506536170244216\n"
          ]
        }
      ]
    },
    {
      "cell_type": "code",
      "source": [
        "plt.plot(maml.meta_losses)"
      ],
      "metadata": {
        "colab": {
          "base_uri": "https://localhost:8080/",
          "height": 282
        },
        "id": "GrHh3US3WM5y",
        "outputId": "a73981e8-afc8-4bfb-a889-8511ecee24ae"
      },
      "execution_count": 8,
      "outputs": [
        {
          "output_type": "execute_result",
          "data": {
            "text/plain": [
              "[<matplotlib.lines.Line2D at 0x7ff201fd48e0>]"
            ]
          },
          "metadata": {},
          "execution_count": 8
        },
        {
          "output_type": "display_data",
          "data": {
            "text/plain": [
              "<Figure size 432x288 with 1 Axes>"
            ],
            "image/png": "[encoded data removed]"
          },
          "metadata": {
            "needs_background": "light"
          }
        }
      ]
    },
    {
      "cell_type": "code",
      "source": [
        "def test(og_net,x,y,lr,optim=torch.optim.SGD):\n",
        "  axis=np.linspace(-5,5,1000)\n",
        "  axis=torch.tensor(axis,dtype=torch.float)\n",
        "  axis=axis.to(device)\n",
        "  dummy_net = nn.Sequential(OrderedDict([\n",
        "        ('l1', nn.Linear(1,40)),\n",
        "        ('relu1', nn.ReLU()),\n",
        "        ('l2', nn.Linear(40,40)),\n",
        "        ('relu2', nn.ReLU()),\n",
        "        ('l3', nn.Linear(40,1))\n",
        "    ]))\n",
        "  dummy_net=dummy_net.to(device)\n",
        "  dummy_net.load_state_dict(og_net.state_dict())\n",
        "  loss_fn=nn.MSELoss()\n",
        "  opt=optim(dummy_net.parameters(),lr=lr)\n",
        "  num_shots=10\n",
        "  k=x.shape[0]\n",
        "  losses=[]\n",
        "  outputs={}\n",
        "  for i in range(num_shots):\n",
        "    out=dummy_net(x)\n",
        "    loss=loss_fn(out,y)\n",
        "    losses.append(loss.item())\n",
        "    dummy_net.zero_grad()\n",
        "    loss.backward()\n",
        "    opt.step()\n",
        "  outputs['minitrained']= dummy_net(axis.view(-1, 1)).detach().cpu().clone().numpy()\n",
        "  outputs['initial']= og_net(torch.tensor(axis).view(-1, 1)).detach().cpu().clone().numpy()\n",
        "  print(losses)\n",
        "  return outputs,axis"
      ],
      "metadata": {
        "id": "EgDOQ7h-WfID"
      },
      "execution_count": 31,
      "outputs": []
    },
    {
      "cell_type": "code",
      "source": [
        "def plot_test(og_net,x,y,task,optim=torch.optim.SGD,lr=0.01):\n",
        "  outputs,axis=test(og_net,x,y,lr,optim)\n",
        "  plt.figure(figsize=(10,5))\n",
        "  plt.plot(axis.cpu().clone().numpy(),task.true_sine(axis.cpu().clone().numpy()), '-', color=(0, 0, 1, 0.5), label='true sine')\n",
        "  plt.scatter(x.cpu().clone().numpy(), y.cpu().clone().numpy(), label='data')\n",
        "  plt.plot(axis.cpu().clone().numpy(), outputs['initial'], ':', color=(0.7, 0, 0, 1), label='initial weights')\n",
        "  plt.plot(axis.cpu().clone().numpy(), outputs['minitrained'], '-', color=(0.5, 0, 0, 1), label='minitrained weights')\n",
        "  plt.legend(loc='lower right')\n",
        "  plt.show()"
      ],
      "metadata": {
        "id": "cUzxzf5MWkRO"
      },
      "execution_count": 32,
      "outputs": []
    },
    {
      "cell_type": "code",
      "source": [
        "K=10\n",
        "task=sine_tasks.sample_task()\n",
        "x,y=task.sample_data(K)\n",
        "x=x.to(device)\n",
        "y=y.to(device)\n",
        "plot_test(og_net=maml.net.net,x=x,y=y,task=task)"
      ],
      "metadata": {
        "colab": {
          "base_uri": "https://localhost:8080/",
          "height": 392
        },
        "id": "fzWpT5f1Wkqp",
        "outputId": "bc07f889-1faf-43fc-cf9b-cb14edc67871"
      },
      "execution_count": 36,
      "outputs": [
        {
          "output_type": "stream",
          "name": "stdout",
          "text": [
            "[2.8844096660614014, 5.984084606170654, 0.7597700953483582, 0.24385078251361847, 0.2403685599565506, 0.23654308915138245, 0.2271205633878708, 0.22443857789039612, 0.21357698738574982, 0.21068798005580902]\n"
          ]
        },
        {
          "output_type": "stream",
          "name": "stderr",
          "text": [
            "<ipython-input-31-c4cf0caec96c>:28: UserWarning: To copy construct from a tensor, it is recommended to use sourceTensor.clone().detach() or sourceTensor.clone().detach().requires_grad_(True), rather than torch.tensor(sourceTensor).\n",
            "  outputs['initial']= og_net(torch.tensor(axis).view(-1, 1)).detach().cpu().clone().numpy()\n"
          ]
        },
        {
          "output_type": "display_data",
          "data": {
            "text/plain": [
              "<Figure size 720x360 with 1 Axes>"
            ],
            "image/png": "[encoded data removed]"
          },
          "metadata": {
            "needs_background": "light"
          }
        }
      ]
    },
    {
      "cell_type": "code",
      "source": [],
      "metadata": {
        "id": "OWOH3x6WWmtt"
      },
      "execution_count": 11,
      "outputs": []
    }
  ]
}