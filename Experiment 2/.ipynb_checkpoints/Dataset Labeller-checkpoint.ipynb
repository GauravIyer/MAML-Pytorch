{
 "cells": [
  {
   "cell_type": "code",
   "execution_count": 46,
   "metadata": {},
   "outputs": [],
   "source": [
    "import os\n",
    "import csv"
   ]
  },
  {
   "cell_type": "code",
   "execution_count": 55,
   "metadata": {},
   "outputs": [],
   "source": [
    "assigned_label=0\n",
    "train_root='Data/images_background'\n",
    "test_root='Data/images_evaluation'\n",
    "train_alphabets=next(os.walk(train_root+'/.'))[1]\n",
    "test_alphabets=next(os.walk(test_root+'/.'))[1]\n",
    "#for (root,dirs,_) in os.walk(train_root): #This and the method above give the immediate subdirectories    \n",
    "#   print(dirs)\n",
    "#   break\n",
    "with open('train_data.csv','w') as csvfile:\n",
    "    fields=['ID','Path','Label']\n",
    "    csvwriter=csv.writer(csvfile,delimiter=',')\n",
    "    csvwriter.writerow(fields)\n",
    "    for a in train_alphabets:\n",
    "        i=0\n",
    "        for charfolder in os.listdir(train_root+'/'+a):\n",
    "            for image in os.listdir(train_root+'/'+a+'/'+charfolder):\n",
    "                label=assigned_label\n",
    "                path=train_root+'/'+a+'/'+charfolder+'/'+image\n",
    "                csvwriter.writerow([image,path,str(label)])\n",
    "            assigned_label+=1\n",
    "            \n",
    "with open('test_data.csv','w') as csvfile:\n",
    "    fields=['ID','Path','Label']\n",
    "    csvwriter=csv.writer(csvfile,delimiter=',')\n",
    "    csvwriter.writerow(fields)\n",
    "    for a in test_alphabets:\n",
    "        i=0\n",
    "        for charfolder in os.listdir(test_root+'/'+a):\n",
    "            for image in os.listdir(test_root+'/'+a+'/'+charfolder):\n",
    "                label=assigned_label\n",
    "                path=test_root+'/'+a+'/'+charfolder+'/'+image\n",
    "                csvwriter.writerow([image,path,str(label)])\n",
    "            assigned_label+=1        \n",
    "        \n",
    "        \n",
    "    \n",
    "        "
   ]
  },
  {
   "cell_type": "code",
   "execution_count": null,
   "metadata": {},
   "outputs": [],
   "source": []
  }
 ],
 "metadata": {
  "kernelspec": {
   "display_name": "Python 3",
   "language": "python",
   "name": "python3"
  },
  "language_info": {
   "codemirror_mode": {
    "name": "ipython",
    "version": 3
   },
   "file_extension": ".py",
   "mimetype": "text/x-python",
   "name": "python",
   "nbconvert_exporter": "python",
   "pygments_lexer": "ipython3",
   "version": "3.6.7"
  }
 },
 "nbformat": 4,
 "nbformat_minor": 2
}
